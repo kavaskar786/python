{
 "cells": [
  {
   "cell_type": "markdown",
   "metadata": {},
   "source": [
    "Q1. Create two 3×3 matrices using the random function in Numpy and perform the following operations.\n",
    "\n",
    "    1.Product (prod)\n",
    "    2.Multiplication (multiply)\n",
    "    3.Dot Product (dot)"
   ]
  },
  {
   "cell_type": "code",
   "execution_count": 1,
   "metadata": {},
   "outputs": [
    {
     "name": "stdout",
     "output_type": "stream",
     "text": [
      "Array1 : \n",
      " [[4 2 1]\n",
      " [4 3 2]\n",
      " [3 2 2]]\n",
      "Array2 : \n",
      " [[2 3 5]\n",
      " [4 3 3]\n",
      " [3 4 2]]\n",
      "Multiply : \n",
      " [[ 8  6  5]\n",
      " [16  9  6]\n",
      " [ 9  8  4]]\n",
      "Product : \n",
      " 59719680\n",
      "Dot : \n",
      " [[19 22 28]\n",
      " [26 29 33]\n",
      " [20 23 25]]\n"
     ]
    }
   ],
   "source": [
    "import numpy as np\n",
    "arr1=np.random.randint(1,5,(3,3))\n",
    "arr2=np.random.randint(1,6,(3,3))\n",
    "print(\"Array1 : \\n\",arr1)\n",
    "print(\"Array2 : \\n\",arr2)\n",
    "print(\"Multiply : \\n\",np.multiply(arr1,arr2))\n",
    "print(\"Product : \\n\",np.prod([arr1,arr2]))\n",
    "print(\"Dot : \\n\",np.dot(arr1,arr2))"
   ]
  },
  {
   "cell_type": "markdown",
   "metadata": {},
   "source": [
    "Q2. Perform the following set operations using the Numpy functions.\n",
    "\n",
    "    1.Union\n",
    "    2.Intersection\n",
    "    3.Set difference\n",
    "    4.XOR"
   ]
  },
  {
   "cell_type": "code",
   "execution_count": 2,
   "metadata": {},
   "outputs": [
    {
     "name": "stdout",
     "output_type": "stream",
     "text": [
      "Union :  [1 2 3 4 5 6]\n",
      "Intersection :  [3 4]\n",
      "Set Difference :  [1 2]\n",
      "XOR :  [1 2 5 6]\n"
     ]
    }
   ],
   "source": [
    "import numpy as np\n",
    "arr1=np.array([1,2,3,4])\n",
    "arr2=np.array([3,4,5,6])\n",
    "print(\"Union : \",np.union1d(arr1,arr2))\n",
    "\n",
    "print(\"Intersection : \",np.intersect1d(arr1,arr2))\n",
    "\n",
    "print(\"Set Difference : \",np.setdiff1d(arr1,arr2))\n",
    "\n",
    "print(\"XOR : \",np.setxor1d(arr1,arr2))"
   ]
  },
  {
   "cell_type": "markdown",
   "metadata": {},
   "source": [
    "Q3. Create a 1D array using Random function and perform the following operations.\n",
    "\n",
    "    Cumulative sum\n",
    "    Cumulative Product\n",
    "    Discrete difference (with n=3)\n",
    "    Find the unique elements from the array"
   ]
  },
  {
   "cell_type": "code",
   "execution_count": 4,
   "metadata": {},
   "outputs": [
    {
     "name": "stdout",
     "output_type": "stream",
     "text": [
      "[9 6 6 2 6 6 3 6 5 9]\n",
      "Cumulative sum :  [ 9 15 21 23 29 35 38 44 49 58]\n",
      "Cumulative Product :  [       9       54      324      648     3888    23328    69984   419904\n",
      "  2099520 18895680]\n",
      "Discrete difference (with n=3) :  [ -7  12 -12   1   9 -10   9]\n",
      "The unique elements from the array :  [2 3 5 6 9]\n"
     ]
    }
   ],
   "source": [
    "import numpy as np\n",
    "arr1=np.random.randint(10 ,size=10)\n",
    "print(arr1)\n",
    "print(\"Cumulative sum : \",np.cumsum(arr1))\n",
    "print(\"Cumulative Product : \",np.cumprod(arr1))\n",
    "print(\"Discrete difference (with n=3) : \",np.diff(arr1, n=3))\n",
    "print(\"The unique elements from the array : \",np.unique(arr1))"
   ]
  },
  {
   "cell_type": "markdown",
   "metadata": {},
   "source": [
    "Q4. Create two 1D array and perform the Addition using zip(), add() and user defined function (frompyfunc())"
   ]
  },
  {
   "cell_type": "code",
   "execution_count": 6,
   "metadata": {},
   "outputs": [
    {
     "name": "stdout",
     "output_type": "stream",
     "text": [
      "[4, 6, 8, 10]\n",
      "[ 4  6  8 10]\n",
      "[ 4  6  8 10]\n",
      "9\n"
     ]
    }
   ],
   "source": [
    "import numpy as np\n",
    "arr1=np.array([1,2,3,4])\n",
    "arr2=np.array([3,4,5,6])\n",
    "z=[]\n",
    "#print(zip(arr1,arr2))\n",
    "for i,j in zip(arr1,arr2):\n",
    "    z.append(i+j)\n",
    "print(z)\n",
    "\n",
    "print(np.add(arr1,arr2))\n",
    "\n",
    "def adds(x,y):\n",
    "    return x+y\n",
    "print(adds(arr1,arr2))\n",
    "result=np.frompyfunc(adds,2,1)\n",
    "print(result(4,5))"
   ]
  },
  {
   "cell_type": "markdown",
   "metadata": {},
   "source": [
    "Q5. Find the LCM (Least Common Multiple) and GCD (Greatest Common Divisor) of an array of elements using reduce()."
   ]
  },
  {
   "cell_type": "code",
   "execution_count": 14,
   "metadata": {},
   "outputs": [
    {
     "name": "stdout",
     "output_type": "stream",
     "text": [
      "LCM :  [[ 40 560]]\n",
      "GCD :  20\n"
     ]
    }
   ],
   "source": [
    "import numpy as np\n",
    "arr1=np.array([[[20,70]],[[40,80]]])\n",
    "arr2=np.array([20,40])\n",
    "print(\"LCM : \",np.lcm.reduce(arr1))\n",
    "print(\"GCD : \",np.gcd.reduce(arr2))"
   ]
  }
 ],
 "metadata": {
  "kernelspec": {
   "display_name": "Python 3",
   "language": "python",
   "name": "python3"
  },
  "language_info": {
   "codemirror_mode": {
    "name": "ipython",
    "version": 3
   },
   "file_extension": ".py",
   "mimetype": "text/x-python",
   "name": "python",
   "nbconvert_exporter": "python",
   "pygments_lexer": "ipython3",
   "version": "3.8.10"
  },
  "orig_nbformat": 4
 },
 "nbformat": 4,
 "nbformat_minor": 2
}
