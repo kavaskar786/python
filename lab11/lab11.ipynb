{
 "cells": [
  {
   "cell_type": "code",
   "execution_count": 1,
   "metadata": {},
   "outputs": [
    {
     "ename": "FileNotFoundError",
     "evalue": "[Errno 2] No such file or directory: 'your_dataset.csv'",
     "output_type": "error",
     "traceback": [
      "\u001b[1;31m---------------------------------------------------------------------------\u001b[0m",
      "\u001b[1;31mFileNotFoundError\u001b[0m                         Traceback (most recent call last)",
      "\u001b[1;32mc:\\Users\\kavas\\Downloads\\vs fun codes\\python\\lab11\\lab11.ipynb Cell 1\u001b[0m line \u001b[0;36m9\n\u001b[0;32m      <a href='vscode-notebook-cell:/c%3A/Users/kavas/Downloads/vs%20fun%20codes/python/lab11/lab11.ipynb#W0sZmlsZQ%3D%3D?line=5'>6</a>\u001b[0m books_per_author \u001b[39m=\u001b[39m []\n\u001b[0;32m      <a href='vscode-notebook-cell:/c%3A/Users/kavas/Downloads/vs%20fun%20codes/python/lab11/lab11.ipynb#W0sZmlsZQ%3D%3D?line=7'>8</a>\u001b[0m \u001b[39m# Read data from the CSV file\u001b[39;00m\n\u001b[1;32m----> <a href='vscode-notebook-cell:/c%3A/Users/kavas/Downloads/vs%20fun%20codes/python/lab11/lab11.ipynb#W0sZmlsZQ%3D%3D?line=8'>9</a>\u001b[0m \u001b[39mwith\u001b[39;00m \u001b[39mopen\u001b[39;49m(\u001b[39m'\u001b[39;49m\u001b[39myour_dataset.csv\u001b[39;49m\u001b[39m'\u001b[39;49m, \u001b[39m'\u001b[39;49m\u001b[39mr\u001b[39;49m\u001b[39m'\u001b[39;49m) \u001b[39mas\u001b[39;00m csvfile:\n\u001b[0;32m     <a href='vscode-notebook-cell:/c%3A/Users/kavas/Downloads/vs%20fun%20codes/python/lab11/lab11.ipynb#W0sZmlsZQ%3D%3D?line=9'>10</a>\u001b[0m     csvreader \u001b[39m=\u001b[39m csv\u001b[39m.\u001b[39mreader(csvfile)\n\u001b[0;32m     <a href='vscode-notebook-cell:/c%3A/Users/kavas/Downloads/vs%20fun%20codes/python/lab11/lab11.ipynb#W0sZmlsZQ%3D%3D?line=10'>11</a>\u001b[0m     \u001b[39mnext\u001b[39m(csvreader)  \u001b[39m# Skip the header row\u001b[39;00m\n",
      "File \u001b[1;32m~\\AppData\\Local\\Packages\\PythonSoftwareFoundation.Python.3.8_qbz5n2kfra8p0\\LocalCache\\local-packages\\Python38\\site-packages\\IPython\\core\\interactiveshell.py:284\u001b[0m, in \u001b[0;36m_modified_open\u001b[1;34m(file, *args, **kwargs)\u001b[0m\n\u001b[0;32m    277\u001b[0m \u001b[39mif\u001b[39;00m file \u001b[39min\u001b[39;00m {\u001b[39m0\u001b[39m, \u001b[39m1\u001b[39m, \u001b[39m2\u001b[39m}:\n\u001b[0;32m    278\u001b[0m     \u001b[39mraise\u001b[39;00m \u001b[39mValueError\u001b[39;00m(\n\u001b[0;32m    279\u001b[0m         \u001b[39mf\u001b[39m\u001b[39m\"\u001b[39m\u001b[39mIPython won\u001b[39m\u001b[39m'\u001b[39m\u001b[39mt let you open fd=\u001b[39m\u001b[39m{\u001b[39;00mfile\u001b[39m}\u001b[39;00m\u001b[39m by default \u001b[39m\u001b[39m\"\u001b[39m\n\u001b[0;32m    280\u001b[0m         \u001b[39m\"\u001b[39m\u001b[39mas it is likely to crash IPython. If you know what you are doing, \u001b[39m\u001b[39m\"\u001b[39m\n\u001b[0;32m    281\u001b[0m         \u001b[39m\"\u001b[39m\u001b[39myou can use builtins\u001b[39m\u001b[39m'\u001b[39m\u001b[39m open.\u001b[39m\u001b[39m\"\u001b[39m\n\u001b[0;32m    282\u001b[0m     )\n\u001b[1;32m--> 284\u001b[0m \u001b[39mreturn\u001b[39;00m io_open(file, \u001b[39m*\u001b[39;49margs, \u001b[39m*\u001b[39;49m\u001b[39m*\u001b[39;49mkwargs)\n",
      "\u001b[1;31mFileNotFoundError\u001b[0m: [Errno 2] No such file or directory: 'your_dataset.csv'"
     ]
    }
   ],
   "source": [
    "import csv\n",
    "import matplotlib.pyplot as plt\n",
    "\n",
    "# Lists to store data from the CSV file\n",
    "authors = []\n",
    "books_per_author = []\n",
    "\n",
    "# Read data from the CSV file\n",
    "with open('data.csv', 'r') as csvfile:\n",
    "    csvreader = csv.reader(csvfile)\n",
    "    next(csvreader)  # Skip the header row\n",
    "    for row in csvreader:\n",
    "        authors.append(row[1])  # Extract author names\n",
    "        books_per_author.append(int(row[0]))  # Extract number of books per author and convert to int\n",
    "\n",
    "# Create a dictionary to store the count of books per author\n",
    "author_book_count = {}\n",
    "for author in authors:\n",
    "    if author in author_book_count:\n",
    "        author_book_count[author] += 1\n",
    "    else:\n",
    "        author_book_count[author] = 1\n",
    "\n",
    "# EDA: Visualize the number of books per author using a bar chart\n",
    "plt.figure(figsize=(12, 6))\n",
    "plt.bar(author_book_count.keys(), author_book_count.values())\n",
    "plt.xticks(rotation=90)\n",
    "plt.xlabel('Author')\n",
    "plt.ylabel('Number of Books')\n",
    "plt.title('Number of Books per Author')\n",
    "plt.tight_layout()\n",
    "plt.show()\n",
    "\n",
    "# Scatter plot: Relationship between author ID and the number of books\n",
    "plt.figure(figsize=(8, 6))\n",
    "plt.scatter(books_per_author, range(1, len(books_per_author) + 1), alpha=0.5)\n",
    "plt.xlabel('Number of Books')\n",
    "plt.ylabel('Author ID')\n",
    "plt.title('Scatter Plot: Author ID vs. Number of Books')\n",
    "plt.tight_layout()\n",
    "plt.show()\n"
   ]
  }
 ],
 "metadata": {
  "kernelspec": {
   "display_name": "Python 3",
   "language": "python",
   "name": "python3"
  },
  "language_info": {
   "codemirror_mode": {
    "name": "ipython",
    "version": 3
   },
   "file_extension": ".py",
   "mimetype": "text/x-python",
   "name": "python",
   "nbconvert_exporter": "python",
   "pygments_lexer": "ipython3",
   "version": "3.8.10"
  },
  "orig_nbformat": 4
 },
 "nbformat": 4,
 "nbformat_minor": 2
}
